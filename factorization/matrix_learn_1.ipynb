{
 "cells": [
  {
   "cell_type": "code",
   "execution_count": 1,
   "source": [
    "import numpy as np\n",
    "\n",
    "arr = [5,5,0,5\n",
    "    ,5,0,3,4\n",
    "    ,3,4,0,3\n",
    "    ,0,0,5,3\n",
    "    ,5,4,4,5\n",
    "    ,5,4,5,5]\n",
    "arr_6_4 = np.reshape(arr,newshape=[6,4])\n",
    "print(arr_6_4,end='\\n\\n')"
   ],
   "outputs": [
    {
     "output_type": "stream",
     "name": "stdout",
     "text": [
      "[[5 5 0 5]\n",
      " [5 0 3 4]\n",
      " [3 4 0 3]\n",
      " [0 0 5 3]\n",
      " [5 4 4 5]\n",
      " [5 4 5 5]]\n",
      "\n"
     ]
    }
   ],
   "metadata": {}
  },
  {
   "cell_type": "code",
   "execution_count": 2,
   "source": [
    "# [U,singular,Vtranspose]=svd(A)\n",
    "# 代码参考: https://blog.csdn.net/kbccs/article/details/82590032\n",
    "U, singular, V_transpose = np.linalg.svd(arr_6_4) # SVD\n",
    "\n",
    "decimal = 4\n",
    "U , singular, V_transpose= np.round(U,decimal), np.round(singular,decimal), np.round(V_transpose,decimal) \n",
    "print('U Matrix: ',U ,end='\\n\\n')\n",
    "# singular = np.linalg.multi_dot([np.eye(6, 4,k=0), singular])\n",
    "\n",
    "print(singular)\n"
   ],
   "outputs": [
    {
     "output_type": "stream",
     "name": "stdout",
     "text": [
      "U Matrix:  [[-0.4472 -0.5373 -0.0064 -0.5037 -0.3857 -0.3298]\n",
      " [-0.3586  0.2461  0.8622 -0.1458  0.078   0.2002]\n",
      " [-0.2925 -0.4033 -0.2275 -0.1038  0.436   0.7065]\n",
      " [-0.2078  0.67   -0.3951 -0.5888  0.026   0.0667]\n",
      " [-0.5099  0.0597 -0.1097  0.2869  0.5946 -0.5371]\n",
      " [-0.5316  0.1887 -0.1914  0.5341 -0.5485  0.2429]]\n",
      "\n",
      "[17.7139  6.3917  3.098   1.329 ]\n"
     ]
    }
   ],
   "metadata": {}
  },
  {
   "cell_type": "code",
   "execution_count": 3,
   "source": [
    "data = np.eye(6,4,k=0)\n",
    "print(data,end='\\n\\n')\n",
    "\n",
    "data = np.multiply(data, singular) # Vector 转换为 Matrix\n",
    "\n",
    "singular_matrix = data\n",
    "print('singular Matrix: \\n',singular_matrix ,end='\\n\\n')\n",
    "# 转置矩阵: https://zh.wikipedia.org/wiki/%E8%BD%AC%E7%BD%AE%E7%9F%A9%E9%98%B5\n",
    "print('V_transpose Matrix: \\n',V_transpose ,end='\\n\\n')"
   ],
   "outputs": [
    {
     "output_type": "stream",
     "name": "stdout",
     "text": [
      "[[1. 0. 0. 0.]\n",
      " [0. 1. 0. 0.]\n",
      " [0. 0. 1. 0.]\n",
      " [0. 0. 0. 1.]\n",
      " [0. 0. 0. 0.]\n",
      " [0. 0. 0. 0.]]\n",
      "\n",
      "singular Matrix: \n",
      " [[17.7139  0.      0.      0.    ]\n",
      " [ 0.      6.3917  0.      0.    ]\n",
      " [ 0.      0.      3.098   0.    ]\n",
      " [ 0.      0.      0.      1.329 ]\n",
      " [ 0.      0.      0.      0.    ]\n",
      " [ 0.      0.      0.      0.    ]]\n",
      "\n",
      "V_transpose Matrix: \n",
      " [[-0.571  -0.4275 -0.3846 -0.5859]\n",
      " [-0.2228 -0.5172  0.8246  0.0532]\n",
      " [ 0.6749 -0.6929 -0.2532  0.014 ]\n",
      " [ 0.4109  0.2637  0.3286 -0.8085]]\n",
      "\n"
     ]
    }
   ],
   "metadata": {}
  },
  {
   "cell_type": "code",
   "execution_count": 4,
   "source": [
    "k = 2 # Latent Factor\n",
    "# \n",
    "svd_answer = np.linalg.multi_dot(arrays=[U[:,0:k],singular_matrix[:k,:k],V_transpose[0:k,:]])\n",
    "print('svd_answer: \\n',svd_answer.round(4))"
   ],
   "outputs": [
    {
     "output_type": "stream",
     "name": "stdout",
     "text": [
      "svd_answer: \n",
      " [[ 5.2884  5.1627  0.2148  4.4586]\n",
      " [ 3.2766  1.902   3.7402  3.8054]\n",
      " [ 3.5329  3.5482 -0.1329  2.8986]\n",
      " [ 1.1477 -0.6413  4.947   2.3845]\n",
      " [ 5.0724  3.664   3.7885  5.3123]\n",
      " [ 5.1082  3.4018  4.6162  5.5814]]\n"
     ]
    }
   ],
   "metadata": {}
  }
 ],
 "metadata": {
  "kernelspec": {
   "name": "python3",
   "display_name": "Python 3.9.2 64-bit"
  },
  "language_info": {
   "name": "python",
   "version": "3.9.7",
   "mimetype": "text/x-python",
   "codemirror_mode": {
    "name": "ipython",
    "version": 3
   },
   "pygments_lexer": "ipython3",
   "nbconvert_exporter": "python",
   "file_extension": ".py"
  },
  "interpreter": {
   "hash": "b0fa6594d8f4cbf19f97940f81e996739fb7646882a419484c72d19e05852a7e"
  }
 },
 "nbformat": 4,
 "nbformat_minor": 5
}
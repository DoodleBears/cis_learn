{
 "cells": [
  {
   "cell_type": "code",
   "execution_count": 1,
   "source": [
    "# 推荐系统玩家 之 矩阵分解(Matrix Factorization)的基本方法 及其 优缺点 - 推荐系统玩家的文章 - 知乎\n",
    "# https://zhuanlan.zhihu.com/p/145120275\n",
    "import numpy as np"
   ],
   "outputs": [],
   "metadata": {}
  },
  {
   "cell_type": "code",
   "execution_count": 2,
   "source": [
    "# 原始矩阵\n",
    "arr = [5,5,0,5\n",
    "    ,5,0,3,4\n",
    "    ,3,4,0,3\n",
    "    ,0,0,5,3\n",
    "    ,5,4,4,5\n",
    "    ,5,4,5,5]\n",
    "arr_6_4 = np.reshape(arr,newshape=[6,4])\n",
    "print(arr_6_4)"
   ],
   "outputs": [
    {
     "output_type": "stream",
     "name": "stdout",
     "text": [
      "[[5 5 0 5]\n",
      " [5 0 3 4]\n",
      " [3 4 0 3]\n",
      " [0 0 5 3]\n",
      " [5 4 4 5]\n",
      " [5 4 5 5]]\n"
     ]
    }
   ],
   "metadata": {}
  },
  {
   "cell_type": "code",
   "execution_count": 3,
   "source": [
    "# [U,singular,Vtranspose]=svd(A)\n",
    "# 代码参考: https://blog.csdn.net/kbccs/article/details/82590032\n",
    "U, singular, V_transpose = np.linalg.svd(arr_6_4) # SVD\n",
    "\n",
    "# 保留小数\n",
    "# decimal = 4\n",
    "# U , singular, V_transpose= np.round(U,decimal), np.round(singular,decimal), np.round(V_transpose,decimal) \n",
    "\n",
    "print('U Matrix: \\n',U ,end='\\n\\n')\n",
    "print('singular Matrix: \\n',singular ,end='\\n\\n')\n",
    "# 转置矩阵: https://zh.wikipedia.org/wiki/%E8%BD%AC%E7%BD%AE%E7%9F%A9%E9%98%B5\n",
    "print('V_transpose Matrix: \\n',V_transpose ,end='\\n\\n')\n",
    "# V_transpose = np.transpose(V_transpose)\n",
    "# print('V_transpose Matrix: \\n',V_transpose ,end='\\n\\n')\n"
   ],
   "outputs": [
    {
     "output_type": "stream",
     "name": "stdout",
     "text": [
      "U Matrix: \n",
      " [[-0.44721867 -0.53728743 -0.00643789 -0.50369332 -0.38572484 -0.32982665]\n",
      " [-0.35861531  0.24605053  0.86223083 -0.14584826  0.07797295  0.20015165]\n",
      " [-0.29246336 -0.40329582 -0.22754042 -0.10376096  0.4360104   0.70652079]\n",
      " [-0.20779151  0.67004393 -0.3950621  -0.58878098  0.02599098  0.06671722]\n",
      " [-0.50993331  0.05969518 -0.10968053  0.28687443  0.59460203 -0.53714632]\n",
      " [-0.53164501  0.18870999 -0.19141061  0.53413013 -0.54845638  0.24290885]]\n",
      "\n",
      "singular Matrix: \n",
      " [17.71392084  6.39167145  3.09796097  1.32897797]\n",
      "\n",
      "V_transpose Matrix: \n",
      " [[-0.57098887 -0.4274751  -0.38459931 -0.58593526]\n",
      " [-0.22279713 -0.51723555  0.82462029  0.05319973]\n",
      " [ 0.67492385 -0.69294472 -0.2531966   0.01403201]\n",
      " [ 0.41086611  0.26374238  0.32859738 -0.80848795]]\n",
      "\n"
     ]
    }
   ],
   "metadata": {}
  },
  {
   "cell_type": "code",
   "execution_count": 4,
   "source": [
    "identity_matrix = np.eye(4) # 6 row 4 col 的单位矩阵\n",
    "\n",
    "print('identity_matrix: \\n',identity_matrix,end='\\n\\n')\n",
    "\n",
    "print('singular: \\n',singular,end='\\n\\n')\n",
    "\n",
    "# Singular 转换为 Matrix\n",
    "# multiply 是对应位置乘除（和点乘不一样）\n",
    "# 这里相当于把 identity 的每个 column 乘以 singular 的每个 columns\n",
    "\n",
    "singular_matrix = identity_matrix * singular\n",
    "\n",
    "print('singular Matrix: \\n',singular_matrix ,end='\\n\\n')\n"
   ],
   "outputs": [
    {
     "output_type": "stream",
     "name": "stdout",
     "text": [
      "identity_matrix: \n",
      " [[1. 0. 0. 0.]\n",
      " [0. 1. 0. 0.]\n",
      " [0. 0. 1. 0.]\n",
      " [0. 0. 0. 1.]]\n",
      "\n",
      "singular: \n",
      " [17.71392084  6.39167145  3.09796097  1.32897797]\n",
      "\n",
      "singular Matrix: \n",
      " [[17.71392084  0.          0.          0.        ]\n",
      " [ 0.          6.39167145  0.          0.        ]\n",
      " [ 0.          0.          3.09796097  0.        ]\n",
      " [ 0.          0.          0.          1.32897797]]\n",
      "\n"
     ]
    }
   ],
   "metadata": {}
  },
  {
   "cell_type": "code",
   "execution_count": 5,
   "source": [
    "k = 2 # Latent Feature 隐含特征 \n",
    "\n",
    "# 多矩阵点乘\n",
    "# U[:, 0:k] 其中 \n",
    "# 第一个 : 代表所有 rows (第一维度)\n",
    "# :k 等价于 0:k 代表取 0:k 共 k 个 columns\n",
    "\n",
    "U_matrix = np.mat(U[:,:k])\n",
    "print('k feature U: \\n', U_matrix ,'\\n')\n",
    "singular_matrix = singular_matrix[:k,:k]\n",
    "print('k feature singular_matrix: \\n', singular_matrix,'\\n')\n",
    "\n",
    "V_transpose_matrix = np.mat(V_transpose[:k,:])\n",
    "print('k feature singular_matrix: \\n', V_transpose_matrix)"
   ],
   "outputs": [
    {
     "output_type": "stream",
     "name": "stdout",
     "text": [
      "k feature U: \n",
      " [[-0.44721867 -0.53728743]\n",
      " [-0.35861531  0.24605053]\n",
      " [-0.29246336 -0.40329582]\n",
      " [-0.20779151  0.67004393]\n",
      " [-0.50993331  0.05969518]\n",
      " [-0.53164501  0.18870999]] \n",
      "\n",
      "k feature singular_matrix: \n",
      " [[17.71392084  0.        ]\n",
      " [ 0.          6.39167145]] \n",
      "\n",
      "k feature singular_matrix: \n",
      " [[-0.57098887 -0.4274751  -0.38459931 -0.58593526]\n",
      " [-0.22279713 -0.51723555  0.82462029  0.05319973]]\n"
     ]
    }
   ],
   "metadata": {}
  },
  {
   "cell_type": "code",
   "execution_count": 6,
   "source": [
    "svd_estimate = U_matrix * singular_matrix * V_transpose_matrix\n",
    "print(arr_6_4, '\\n')\n",
    "print('svd_estimate: \\n',svd_estimate.round(4)) "
   ],
   "outputs": [
    {
     "output_type": "stream",
     "name": "stdout",
     "text": [
      "[[5 5 0 5]\n",
      " [5 0 3 4]\n",
      " [3 4 0 3]\n",
      " [0 0 5 3]\n",
      " [5 4 4 5]\n",
      " [5 4 5 5]]\n",
      "\n",
      "svd_estimate: \n",
      " [[ 5.2885  5.1627  0.2149  4.4591]\n",
      " [ 3.2768  1.9021  3.74    3.8058]\n",
      " [ 3.5324  3.5479 -0.1332  2.8984]\n",
      " [ 1.1475 -0.6417  4.9472  2.3846]\n",
      " [ 5.0727  3.664   3.7887  5.313 ]\n",
      " [ 5.1086  3.4019  4.6166  5.5822]]\n"
     ]
    }
   ],
   "metadata": {}
  }
 ],
 "metadata": {
  "kernelspec": {
   "name": "python3",
   "display_name": "Python 3.9.6 64-bit ('base': conda)"
  },
  "language_info": {
   "name": "python",
   "version": "3.9.6",
   "mimetype": "text/x-python",
   "codemirror_mode": {
    "name": "ipython",
    "version": 3
   },
   "pygments_lexer": "ipython3",
   "nbconvert_exporter": "python",
   "file_extension": ".py"
  },
  "interpreter": {
   "hash": "95ec9ec1504d83f612128e0fb229072f90bbb4cb09d9d5d93b5dd26e0ca2cfd1"
  }
 },
 "nbformat": 4,
 "nbformat_minor": 5
}
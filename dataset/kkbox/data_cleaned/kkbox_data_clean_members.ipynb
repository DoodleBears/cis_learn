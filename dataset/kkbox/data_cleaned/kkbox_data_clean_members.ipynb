{
 "cells": [
  {
   "cell_type": "code",
   "execution_count": 1,
   "metadata": {},
   "outputs": [],
   "source": [
    "import pandas as pd\n",
    "import numpy as np"
   ]
  },
  {
   "cell_type": "code",
   "execution_count": 2,
   "metadata": {},
   "outputs": [],
   "source": [
    "members = pd.read_csv('../data_origin/members.csv')"
   ]
  },
  {
   "cell_type": "code",
   "execution_count": 3,
   "metadata": {},
   "outputs": [],
   "source": [
    "def showDFBasicInfo(df):\n",
    "    # check if duplicated\n",
    "    print('is duplicated exist: ' + str(df[df.duplicated()]))\n",
    "    # check if null\n",
    "    np.where(pd.isnull(df))\n",
    "    # print type of data in DataFrame \n",
    "    print(df.dtypes)"
   ]
  },
  {
   "cell_type": "code",
   "execution_count": 4,
   "metadata": {},
   "outputs": [
    {
     "name": "stdout",
     "output_type": "stream",
     "text": [
      "is duplicated exist: Empty DataFrame\n",
      "Columns: [msno, city, bd, gender, registered_via, registration_init_time, expiration_date]\n",
      "Index: []\n",
      "msno                      object\n",
      "city                       int64\n",
      "bd                         int64\n",
      "gender                    object\n",
      "registered_via             int64\n",
      "registration_init_time     int64\n",
      "expiration_date            int64\n",
      "dtype: object\n"
     ]
    },
    {
     "data": {
      "text/html": [
       "<div>\n",
       "<style scoped>\n",
       "    .dataframe tbody tr th:only-of-type {\n",
       "        vertical-align: middle;\n",
       "    }\n",
       "\n",
       "    .dataframe tbody tr th {\n",
       "        vertical-align: top;\n",
       "    }\n",
       "\n",
       "    .dataframe thead th {\n",
       "        text-align: right;\n",
       "    }\n",
       "</style>\n",
       "<table border=\"1\" class=\"dataframe\">\n",
       "  <thead>\n",
       "    <tr style=\"text-align: right;\">\n",
       "      <th></th>\n",
       "      <th>msno</th>\n",
       "      <th>city</th>\n",
       "      <th>bd</th>\n",
       "      <th>gender</th>\n",
       "      <th>registered_via</th>\n",
       "      <th>registration_init_time</th>\n",
       "      <th>expiration_date</th>\n",
       "    </tr>\n",
       "  </thead>\n",
       "  <tbody>\n",
       "    <tr>\n",
       "      <th>0</th>\n",
       "      <td>zgPOEyUn5a/Fvuzb3m69ajzxjkbblVtObglW89FzLdo=</td>\n",
       "      <td>13</td>\n",
       "      <td>43</td>\n",
       "      <td>female</td>\n",
       "      <td>9</td>\n",
       "      <td>20120703</td>\n",
       "      <td>20171006</td>\n",
       "    </tr>\n",
       "    <tr>\n",
       "      <th>1</th>\n",
       "      <td>GoFYKhcq8Q5Gjz1M5L0azHZOhcY+Za/T7fRqIGgBuYA=</td>\n",
       "      <td>12</td>\n",
       "      <td>28</td>\n",
       "      <td>male</td>\n",
       "      <td>9</td>\n",
       "      <td>20060531</td>\n",
       "      <td>20170816</td>\n",
       "    </tr>\n",
       "    <tr>\n",
       "      <th>2</th>\n",
       "      <td>RoSfblbwJN/izEnFIVw8TgOpm8R/NEpUC84Oz/b32HQ=</td>\n",
       "      <td>15</td>\n",
       "      <td>33</td>\n",
       "      <td>female</td>\n",
       "      <td>3</td>\n",
       "      <td>20150915</td>\n",
       "      <td>20171019</td>\n",
       "    </tr>\n",
       "  </tbody>\n",
       "</table>\n",
       "</div>"
      ],
      "text/plain": [
       "                                           msno  city  bd  gender  \\\n",
       "0  zgPOEyUn5a/Fvuzb3m69ajzxjkbblVtObglW89FzLdo=    13  43  female   \n",
       "1  GoFYKhcq8Q5Gjz1M5L0azHZOhcY+Za/T7fRqIGgBuYA=    12  28    male   \n",
       "2  RoSfblbwJN/izEnFIVw8TgOpm8R/NEpUC84Oz/b32HQ=    15  33  female   \n",
       "\n",
       "   registered_via  registration_init_time  expiration_date  \n",
       "0               9                20120703         20171006  \n",
       "1               9                20060531         20170816  \n",
       "2               3                20150915         20171019  "
      ]
     },
     "execution_count": 4,
     "metadata": {},
     "output_type": "execute_result"
    }
   ],
   "source": [
    "members_df = members\n",
    "# drop out the outlier \n",
    "members_df = members_df.drop(index=members_df[(members_df.bd > 100) | (members_df.bd < 5) | members_df.gender.isnull()].index)\n",
    "# reset index\n",
    "members_df = members_df.reset_index()\n",
    "members_df = members_df.drop(['index'],axis=1)\n",
    "\n",
    "showDFBasicInfo(members_df)\n",
    "members_df.head(3)"
   ]
  },
  {
   "cell_type": "code",
   "execution_count": 5,
   "metadata": {},
   "outputs": [],
   "source": [
    "# add field: registration year\n",
    "registration_year = []\n",
    "for index in range(len(members_df)):\n",
    "    year = str(members_df.registration_init_time[index])\n",
    "    temp_list = [members_df.msno[index], year[:4]]\n",
    "    registration_year.append(temp_list)\n",
    "registration_year_arr = np.array(registration_year)\n",
    "registration_year_df = pd.DataFrame(data=registration_year, columns=['msno', 'registration_year'])\n",
    "members_df = pd.merge(left=members_df, right=registration_year_df)\n"
   ]
  },
  {
   "cell_type": "code",
   "execution_count": 6,
   "metadata": {},
   "outputs": [],
   "source": [
    "members_df = members_df"
   ]
  },
  {
   "cell_type": "code",
   "execution_count": 7,
   "metadata": {},
   "outputs": [],
   "source": [
    "# map gender to binary\n",
    "gender_map = {'female' : 0, 'male': 1}\n",
    "members_df['gender'] = members_df.gender.map(gender_map)"
   ]
  },
  {
   "cell_type": "code",
   "execution_count": 8,
   "metadata": {},
   "outputs": [
    {
     "data": {
      "text/html": [
       "<div>\n",
       "<style scoped>\n",
       "    .dataframe tbody tr th:only-of-type {\n",
       "        vertical-align: middle;\n",
       "    }\n",
       "\n",
       "    .dataframe tbody tr th {\n",
       "        vertical-align: top;\n",
       "    }\n",
       "\n",
       "    .dataframe thead th {\n",
       "        text-align: right;\n",
       "    }\n",
       "</style>\n",
       "<table border=\"1\" class=\"dataframe\">\n",
       "  <thead>\n",
       "    <tr style=\"text-align: right;\">\n",
       "      <th></th>\n",
       "      <th>msno</th>\n",
       "      <th>city</th>\n",
       "      <th>bd</th>\n",
       "      <th>gender</th>\n",
       "      <th>registered_via</th>\n",
       "      <th>registration_init_time</th>\n",
       "      <th>expiration_date</th>\n",
       "      <th>registration_year</th>\n",
       "    </tr>\n",
       "  </thead>\n",
       "  <tbody>\n",
       "    <tr>\n",
       "      <th>0</th>\n",
       "      <td>zgPOEyUn5a/Fvuzb3m69ajzxjkbblVtObglW89FzLdo=</td>\n",
       "      <td>13</td>\n",
       "      <td>43</td>\n",
       "      <td>0</td>\n",
       "      <td>9</td>\n",
       "      <td>20120703</td>\n",
       "      <td>20171006</td>\n",
       "      <td>2012</td>\n",
       "    </tr>\n",
       "    <tr>\n",
       "      <th>1</th>\n",
       "      <td>GoFYKhcq8Q5Gjz1M5L0azHZOhcY+Za/T7fRqIGgBuYA=</td>\n",
       "      <td>12</td>\n",
       "      <td>28</td>\n",
       "      <td>1</td>\n",
       "      <td>9</td>\n",
       "      <td>20060531</td>\n",
       "      <td>20170816</td>\n",
       "      <td>2006</td>\n",
       "    </tr>\n",
       "    <tr>\n",
       "      <th>2</th>\n",
       "      <td>RoSfblbwJN/izEnFIVw8TgOpm8R/NEpUC84Oz/b32HQ=</td>\n",
       "      <td>15</td>\n",
       "      <td>33</td>\n",
       "      <td>0</td>\n",
       "      <td>3</td>\n",
       "      <td>20150915</td>\n",
       "      <td>20171019</td>\n",
       "      <td>2015</td>\n",
       "    </tr>\n",
       "  </tbody>\n",
       "</table>\n",
       "</div>"
      ],
      "text/plain": [
       "                                           msno  city  bd  gender  \\\n",
       "0  zgPOEyUn5a/Fvuzb3m69ajzxjkbblVtObglW89FzLdo=    13  43       0   \n",
       "1  GoFYKhcq8Q5Gjz1M5L0azHZOhcY+Za/T7fRqIGgBuYA=    12  28       1   \n",
       "2  RoSfblbwJN/izEnFIVw8TgOpm8R/NEpUC84Oz/b32HQ=    15  33       0   \n",
       "\n",
       "   registered_via  registration_init_time  expiration_date registration_year  \n",
       "0               9                20120703         20171006              2012  \n",
       "1               9                20060531         20170816              2006  \n",
       "2               3                20150915         20171019              2015  "
      ]
     },
     "execution_count": 8,
     "metadata": {},
     "output_type": "execute_result"
    }
   ],
   "source": [
    "members_df.head(3)\n"
   ]
  },
  {
   "cell_type": "code",
   "execution_count": 9,
   "metadata": {},
   "outputs": [],
   "source": [
    "members_df.to_csv('members.csv', index=None)"
   ]
  }
 ],
 "metadata": {
  "interpreter": {
   "hash": "d98efb995ee1fb64f567eb6c84920f2d2ae586b8cca66cf54d20038f83d77a38"
  },
  "kernelspec": {
   "display_name": "Python 3.8.8 64-bit ('base': conda)",
   "name": "python3"
  },
  "language_info": {
   "codemirror_mode": {
    "name": "ipython",
    "version": 3
   },
   "file_extension": ".py",
   "mimetype": "text/x-python",
   "name": "python",
   "nbconvert_exporter": "python",
   "pygments_lexer": "ipython3",
   "version": "3.8.8"
  },
  "orig_nbformat": 4
 },
 "nbformat": 4,
 "nbformat_minor": 2
}

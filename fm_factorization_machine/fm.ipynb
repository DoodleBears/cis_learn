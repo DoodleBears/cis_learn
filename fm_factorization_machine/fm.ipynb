{
 "cells": [
  {
   "cell_type": "code",
   "execution_count": 11,
   "metadata": {},
   "outputs": [],
   "source": [
    "# fm training for anime\n",
    "\n",
    "import xlearn as xl\n",
    "import numpy as np\n",
    "import pandas as pd\n",
    "from sklearn.model_selection import KFold\n"
   ]
  },
  {
   "cell_type": "code",
   "execution_count": 12,
   "metadata": {},
   "outputs": [
    {
     "name": "stdout",
     "output_type": "stream",
     "text": [
      "45\n"
     ]
    }
   ],
   "source": [
    "# 读取 csv\n",
    "anime_train_df = pd.read_csv(\"data/anime_genres_splitted.csv\" , header=None)\n",
    "# anime_train_df = anime_train_df.drop(labels=['type'],axis=1)\n",
    "\n",
    "col_num = len(anime_train_df.columns.tolist())\n",
    "print(col_num)"
   ]
  },
  {
   "cell_type": "code",
   "execution_count": 13,
   "metadata": {},
   "outputs": [
    {
     "name": "stdout",
     "output_type": "stream",
     "text": [
      "[    0     1     3 ... 11951 11952 11953] [    2     5     9 ... 11945 11949 11950]\n",
      "[    0     1     2 ... 11950 11951 11953] [   10    12    14 ... 11940 11943 11952]\n",
      "[    0     1     2 ... 11949 11950 11952] [    3     4     8 ... 11947 11951 11953]\n",
      "[    1     2     3 ... 11951 11952 11953] [    0     6    26 ... 11942 11944 11946]\n",
      "[    0     2     3 ... 11951 11952 11953] [    1     7    13 ... 11925 11930 11948]\n",
      "9564\n",
      "2390\n"
     ]
    }
   ],
   "source": [
    "# 采样 sampling\n",
    "x = anime_train_df\n",
    "kf = KFold(n_splits=5,shuffle=True)\n",
    "for train_index, test_index in kf.split(x):\n",
    "  print(train_index,test_index)\n",
    "print(len(train_index))\n",
    "print(len(test_index))"
   ]
  },
  {
   "cell_type": "code",
   "execution_count": 14,
   "metadata": {},
   "outputs": [],
   "source": [
    "train_sample = anime_train_df.drop(test_index)\n",
    "test_sample = anime_train_df.drop(train_index)\n",
    "\n",
    "X_train = train_sample[train_sample.columns[1:]]\n",
    "y_train = train_sample[0]\n",
    "# print(train_sample)\n",
    "\n",
    "X_test = test_sample[test_sample.columns[1:]]\n",
    "y_test = test_sample[0]\n",
    "# test_sample\n",
    "\n",
    "xdm_train = xl.DMatrix(X_train, y_train)\n",
    "xdm_test = xl.DMatrix(X_test, y_test)\n"
   ]
  },
  {
   "cell_type": "code",
   "execution_count": 15,
   "metadata": {},
   "outputs": [],
   "source": [
    "# 开始 train\n",
    "# Training task\n",
    "fm_model = xl.create_fm()  # Use factorization machine\n",
    "# we use the same API for train from file\n",
    "# that is, you can also pass xl.DMatrix for this API now\n",
    "fm_model.setTrain(xdm_train)    # Training data\n",
    "fm_model.setValidate(xdm_test)  # Validation data\n",
    "\n",
    "# param:\n",
    "#  0. regression task\n",
    "#  1. learning rate: 0.2\n",
    "#  2. regular lambda: 0.002\n",
    "#  3. evaluation metric: acc\n",
    "param = {'task':'binary', 'lr':0.2, \n",
    "         'lambda':0.002, 'metric':'acc'}\n",
    "\n",
    "# Start to train\n",
    "# The trained model will be stored in model.out\n",
    "fm_model.fit(param, './model_dm.out')\n",
    "\n",
    "# Prediction task\n",
    "# we use the same API for test from file\n",
    "# that is, you can also pass xl.DMatrix for this API now\n",
    "fm_model.setTest(xdm_test)  # Test data\n",
    "fm_model.setSigmoid()  # Convert output to 0-1\n",
    "\n",
    "# Start to predict\n",
    "# The output result will be stored in output.txt\n",
    "# if no result out path setted, we return res as numpy.ndarray\n",
    "res = fm_model.predict(\"./model_dm.out\", \"./output.txt\")\n",
    "\n"
   ]
  }
 ],
 "metadata": {
  "interpreter": {
   "hash": "d98efb995ee1fb64f567eb6c84920f2d2ae586b8cca66cf54d20038f83d77a38"
  },
  "kernelspec": {
   "display_name": "Python 3.8.8 64-bit ('base': conda)",
   "name": "python3"
  },
  "language_info": {
   "codemirror_mode": {
    "name": "ipython",
    "version": 3
   },
   "file_extension": ".py",
   "mimetype": "text/x-python",
   "name": "python",
   "nbconvert_exporter": "python",
   "pygments_lexer": "ipython3",
   "version": "3.8.8"
  },
  "orig_nbformat": 4
 },
 "nbformat": 4,
 "nbformat_minor": 2
}
